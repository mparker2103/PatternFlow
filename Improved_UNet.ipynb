{
  "nbformat": 4,
  "nbformat_minor": 0,
  "metadata": {
    "colab": {
      "name": "Improved_UNet.ipynb",
      "provenance": [],
      "authorship_tag": "ABX9TyN+RlT5EtYGhPy+8bXxwk8R",
      "include_colab_link": true
    },
    "kernelspec": {
      "name": "python3",
      "display_name": "Python 3"
    },
    "language_info": {
      "name": "python"
    },
    "accelerator": "GPU"
  },
  "cells": [
    {
      "cell_type": "markdown",
      "metadata": {
        "id": "view-in-github",
        "colab_type": "text"
      },
      "source": [
        "<a href=\"https://colab.research.google.com/github/mparker2103/PatternFlow/blob/master/Improved_UNet.ipynb\" target=\"_parent\"><img src=\"https://colab.research.google.com/assets/colab-badge.svg\" alt=\"Open In Colab\"/></a>"
      ]
    },
    {
      "cell_type": "code",
      "metadata": {
        "id": "biTCJAeADZyv"
      },
      "source": [
        "from sklearn.model_selection import train_test_split\n",
        "from sklearn.metrics import classification_report\n",
        "from tensorflow.keras.datasets import cifar10\n",
        "import numpy as np\n",
        "import tensorflow as tf\n",
        "\n",
        "from tensorflow.keras.layers import Input, Conv2D, MaxPooling2D, Flatten, Dense, Dropout\n",
        "from tensorflow.keras.models import Model\n",
        "from tensorflow.keras.utils import to_categorical\n",
        "import matplotlib.pyplot as plt\n",
        "from skimage.io import imread_collection, imread\n",
        "\n",
        "from google.colab import drive"
      ],
      "execution_count": 4,
      "outputs": []
    },
    {
      "cell_type": "code",
      "metadata": {
        "id": "V-5jUwDu19sn"
      },
      "source": [
        "depth = 64\n",
        "n = 32 #image dim\n",
        "batch_size = 250\n",
        "epochs = 20\n",
        "categories = 10"
      ],
      "execution_count": 2,
      "outputs": []
    },
    {
      "cell_type": "code",
      "metadata": {
        "colab": {
          "base_uri": "https://localhost:8080/"
        },
        "id": "veUrGPFP1_KM",
        "outputId": "80dc73a7-e971-4894-c717-ddfa924dd113"
      },
      "source": [
        "drive.mount('/content/drive')"
      ],
      "execution_count": 5,
      "outputs": [
        {
          "output_type": "stream",
          "name": "stdout",
          "text": [
            "Mounted at /content/drive\n"
          ]
        }
      ]
    },
    {
      "cell_type": "code",
      "metadata": {
        "id": "Ao2Kqjbi2AvB"
      },
      "source": [
        "# Read single image from folders; this caches the folder to get Google Colab to iterate through files quicker\n",
        "train = imread('/content/drive/MyDrive/Colab_Notebooks/Data/ISIC2018_Task1-2_Training_Input_x2/ISIC_0000000.jpg')\n",
        "test = imread('/content/drive/MyDrive/Colab_Notebooks/Data/ISIC2018_Task1_Training_GroundTruth_x2/ISIC_0000000_segmentation.png')"
      ],
      "execution_count": 6,
      "outputs": []
    },
    {
      "cell_type": "code",
      "metadata": {
        "id": "NCpgzpvs2MYg"
      },
      "source": [
        "# Load the data\n",
        "dir_train =    \"/content/drive/MyDrive/Colab_Notebooks/Data/ISIC2018_Task1-2_Training_Input_x2/*.jpg\"\n",
        "dir_test =     \"/content/drive/MyDrive/Colab_Notebooks/Data/ISIC2018_Task1_Training_GroundTruth_x2/*.png\"\n",
        "\n",
        "train = imread_collection(dir_train)"
      ],
      "execution_count": null,
      "outputs": []
    },
    {
      "cell_type": "code",
      "metadata": {
        "id": "Dg6iXZtH2OKQ"
      },
      "source": [
        "test = imread_collection(dir_test)"
      ],
      "execution_count": null,
      "outputs": []
    },
    {
      "cell_type": "code",
      "metadata": {
        "id": "Lw1Tij5G2QGx"
      },
      "source": [
        "# Check images loaded correctly\n",
        "plt.imshow(train[0], cmap='gray')\n",
        "plt.show()"
      ],
      "execution_count": null,
      "outputs": []
    },
    {
      "cell_type": "code",
      "metadata": {
        "id": "JJXEr8-v3bSn"
      },
      "source": [
        "# Convert image collections to tensors and normalise\n",
        "train = tf.convert_to_tensor(train)\n",
        "test = tf.convert_to_tensor(test)"
      ],
      "execution_count": null,
      "outputs": []
    },
    {
      "cell_type": "code",
      "metadata": {
        "id": "P9M7YEcc3cz7"
      },
      "source": [
        "train, validate = train_test_split(train, test_size=0.2, random_state=1234)"
      ],
      "execution_count": null,
      "outputs": []
    },
    {
      "cell_type": "code",
      "metadata": {
        "id": "aRhbRBUW3hDc"
      },
      "source": [
        "train = tf.cast(train, tf.float32) / 255.\n",
        "validate = tf.cast(validate, tf.float32) / 255.\n",
        "test = tf.cast(test, tf.float32) / 255.\n",
        "\n",
        "print(train.shape)\n",
        "print(validate.shape)\n",
        "print(test.shape)"
      ],
      "execution_count": null,
      "outputs": []
    },
    {
      "cell_type": "code",
      "metadata": {
        "id": "6N6f21Zi3inR"
      },
      "source": [
        "# create the network\n",
        "inputs = Input(shape=(n,n,3))\n",
        "net1 = Conv2D(depth, (3,3), padding='same', activation='relu')(inputs)\n",
        "pool1 = MaxPooling2D(pool_size=(2,2))(net1)\n",
        "# dropout1 = Dropout(rate=.1)(pool1)\n",
        "net2 = Conv2D(depth*4, (3,3), padding='same', activation='relu')(pool1)\n",
        "pool2 = MaxPooling2D(pool_size=(2,2), strides=(1,1))(net2)\n",
        "dropout2 = Dropout(rate=.2)(pool2)\n",
        "net3 = Conv2D(depth*8, (3,3), padding='same', activation='relu')(dropout2)\n",
        "pool3 = MaxPooling2D(pool_size=(2,2))(net3)\n",
        "# dropout3 = Dropout(rate=.3)(pool3)\n",
        "net4 = Conv2D(depth*16, (3,3), padding='same', activation='relu')(pool3)\n",
        "pool4 = MaxPooling2D(pool_size=(2,2), strides=(1,1))(net4)\n",
        "dropout4 = Dropout(rate=.4)(pool4)\n",
        "flat = Flatten()(dropout4)\n",
        "net5 = Dense(depth*32, activation='relu')(flat)\n",
        "output = Dense(categories, activation='softmax')(net5)"
      ],
      "execution_count": null,
      "outputs": []
    },
    {
      "cell_type": "code",
      "metadata": {
        "id": "6KUc-fIg3qkS"
      },
      "source": [
        "# Map an input to its reconstruction to create model\n",
        "model = Model(inputs, output)"
      ],
      "execution_count": null,
      "outputs": []
    },
    {
      "cell_type": "code",
      "metadata": {
        "id": "p81-tOsN3r5R"
      },
      "source": [
        "model.compile(optimizer='adam', loss='categorical_crossentropy', metrics=['accuracy'])"
      ],
      "execution_count": null,
      "outputs": []
    },
    {
      "cell_type": "code",
      "metadata": {
        "id": "88KXgdsV3tWW"
      },
      "source": [
        "model_hist = model.fit(X_train, y_train_cat,\n",
        "            epochs=epochs,\n",
        "            batch_size=batch_size,\n",
        "            shuffle=True,\n",
        "            validation_data=(X_val, y_val_cat))"
      ],
      "execution_count": null,
      "outputs": []
    },
    {
      "cell_type": "code",
      "metadata": {
        "id": "vGfM8fwI3uxd"
      },
      "source": [
        ""
      ],
      "execution_count": null,
      "outputs": []
    }
  ]
}